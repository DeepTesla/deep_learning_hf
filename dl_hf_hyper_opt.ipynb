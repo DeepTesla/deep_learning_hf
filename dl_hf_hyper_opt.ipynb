{
 "cells": [
  {
   "cell_type": "code",
   "execution_count": 0,
   "metadata": {
    "colab": {
     "base_uri": "https://localhost:8080/",
     "height": 34
    },
    "colab_type": "code",
    "id": "X_AWG32AVw0J",
    "outputId": "d4691672-82f4-4471-8b15-3cac43df550d"
   },
   "outputs": [
    {
     "name": "stdout",
     "output_type": "stream",
     "text": [
      "TensorFlow 2.x selected.\n"
     ]
    }
   ],
   "source": [
    "%tensorflow_version 2.x"
   ]
  },
  {
   "cell_type": "code",
   "execution_count": 0,
   "metadata": {
    "colab": {
     "base_uri": "https://localhost:8080/",
     "height": 153
    },
    "colab_type": "code",
    "id": "73VJMJU0VliC",
    "outputId": "1032ee76-9927-4244-8fd5-c41d85581412"
   },
   "outputs": [
    {
     "name": "stdout",
     "output_type": "stream",
     "text": [
      "Cloning into 'deep_learning_hf'...\n",
      "remote: Enumerating objects: 13, done.\u001b[K\n",
      "remote: Counting objects: 100% (13/13), done.\u001b[K\n",
      "remote: Compressing objects: 100% (9/9), done.\u001b[K\n",
      "remote: Total 441 (delta 3), reused 13 (delta 3), pack-reused 428\u001b[K\n",
      "Receiving objects: 100% (441/441), 907.35 MiB | 13.45 MiB/s, done.\n",
      "Resolving deltas: 100% (108/108), done.\n",
      "Checking out files: 100% (105/105), done.\n"
     ]
    }
   ],
   "source": [
    "!git clone -b feature_hyper_opt https://github.com/DeepTesla/deep_learning_hf.git"
   ]
  },
  {
   "cell_type": "code",
   "execution_count": 0,
   "metadata": {
    "colab": {
     "base_uri": "https://localhost:8080/",
     "height": 34
    },
    "colab_type": "code",
    "id": "5divH5mXWFX1",
    "outputId": "c5656104-3c31-4c69-f590-f4fef12b5083"
   },
   "outputs": [
    {
     "name": "stdout",
     "output_type": "stream",
     "text": [
      "/content/deep_learning_hf\n"
     ]
    }
   ],
   "source": [
    "%cd deep_learning_hf/"
   ]
  },
  {
   "cell_type": "code",
   "execution_count": 0,
   "metadata": {
    "colab": {},
    "colab_type": "code",
    "id": "JlkVMgKnQPTU"
   },
   "outputs": [],
   "source": [
    "import cv2\n",
    "import os\n",
    "import logging\n",
    "import numpy as np\n",
    "import tensorflow as tf\n",
    "import time\n",
    "import timeit\n",
    "from typing import Tuple, Iterator"
   ]
  },
  {
   "cell_type": "markdown",
   "metadata": {
    "colab_type": "text",
    "id": "jJT1TZ1GWSJY"
   },
   "source": [
    "## Preprocessing videos"
   ]
  },
  {
   "cell_type": "code",
   "execution_count": 0,
   "metadata": {
    "colab": {},
    "colab_type": "code",
    "id": "SaxWZN_1VYTV"
   },
   "outputs": [],
   "source": [
    "logging.basicConfig(level=logging.INFO, format='[%(levelname)s]: %(message)s')\n",
    "\n",
    "\n",
    "class VideoLoader:\n",
    "    \"\"\"\n",
    "    Video loader class, responsible for working with the raw original and annotated videos.\n",
    "    \"\"\"\n",
    "    video_res = (640, 480)\n",
    "\n",
    "    def __init__(self, video_dir_path: os.path):\n",
    "        if not os.path.exists(video_dir_path):\n",
    "            raise Exception(f'Path doesn\\'t exist!\\n{video_dir_path}')\n",
    "        self.video_dir_path = video_dir_path\n",
    "        self.orig_videos = {}\n",
    "        self.annot_videos = {}\n",
    "        self.load_videos()\n",
    "\n",
    "    def load_videos(self) -> None:\n",
    "        \"\"\"\n",
    "        Parses video paths form a target directory (e.g.: train, test, validation).\n",
    "        \"\"\"\n",
    "        logging.info(f'loading video files from:\\n{self.video_dir_path}')\n",
    "        with os.scandir(self.video_dir_path) as entries:\n",
    "            for e in entries:\n",
    "                *name, ext = e.name.split('.')\n",
    "                if ext == 'avi':\n",
    "                    # get the sequence number\n",
    "                    id, type_, *_ = name[0].split('_')\n",
    "                    id = int(id)\n",
    "                    video_full_path = os.path.join(self.video_dir_path, e.name)\n",
    "                    if type_ == 'orig':\n",
    "                        self.orig_videos[id] = video_full_path\n",
    "                    elif type_ == 'annot':\n",
    "                        self.annot_videos[id] = video_full_path\n",
    "\n",
    "    def preprocess(self,\n",
    "                   dst_size: Tuple[int, int],\n",
    "                   dst_dir: os.path) -> None:\n",
    "        \"\"\"\n",
    "        Saves each frame of the previously parsed videos to an image detailed by the given parameters.\n",
    "        :param dst_size: the tesired size of the output images (w, h)\n",
    "        :param dst_dir: the directory path where the processed images will be placed. The resulting directory structure \n",
    "        will be as follows: dst_dir/orig -> for the frames extracted from the original videos\n",
    "                            dst_dir/annot -> for the frames extracted from the annotated videos\n",
    "        dst_dir MUST exist prior for the function to take effect.\n",
    "        \"\"\"\n",
    "        o_dir = os.path.join(dst_dir, 'orig')\n",
    "        a_dir = os.path.join(dst_dir, 'annot')\n",
    "        try:\n",
    "            os.makedirs(dst_dir)\n",
    "        except:\n",
    "            pass\n",
    "        time.sleep(1)\n",
    "        self._delete_dir(o_dir)\n",
    "        os.makedirs(o_dir)\n",
    "        time.sleep(1)\n",
    "        self._delete_dir(a_dir)\n",
    "        os.makedirs(a_dir)\n",
    "        time.sleep(1)\n",
    "        for o, a in zip(self.orig_videos.items(), self.annot_videos.items()):\n",
    "            o_id, o_path = o\n",
    "            a_id, a_path = a\n",
    "            o_vc = cv2.VideoCapture(o_path)\n",
    "            a_vc = cv2.VideoCapture(a_path)\n",
    "            frame_cnt = 0\n",
    "            while True:\n",
    "                ret, o_frame_orig = o_vc.read()\n",
    "                ret, a_frame_orig = a_vc.read()\n",
    "                if o_frame_orig is None or a_frame_orig is None:\n",
    "                    break\n",
    "                o_frame_new = cv2.resize(o_frame_orig, dst_size)\n",
    "                cv2.imwrite(os.path.join(o_dir, f'{frame_cnt:06d}.png'), o_frame_new)\n",
    "                a_frame_new = cv2.resize(a_frame_orig, dst_size)\n",
    "                cv2.imwrite(os.path.join(a_dir, f'{frame_cnt:06d}.png'), a_frame_new)\n",
    "                frame_cnt += 1\n",
    "            o_vc.release()\n",
    "            a_vc.release()\n",
    "\n",
    "    def data_generator(self,\n",
    "                       src_dir: os.path,\n",
    "                       src_size: Tuple[int, int],\n",
    "                       batch_size: int,\n",
    "                       idxs: np.ndarray = None) -> Iterator:\n",
    "        \"\"\"\n",
    "        Generator function for the preprocessed images.\n",
    "        \"\"\"\n",
    "        o_dir = os.path.join(src_dir, 'orig')\n",
    "        a_dir = os.path.join(src_dir, 'annot')\n",
    "        total_cnt = len(os.listdir(o_dir))\n",
    "        while True:\n",
    "            # read batch size random indexed images\n",
    "            t_idxs = np.random.randint(0, total_cnt, batch_size)\n",
    "            if idxs is not None:\n",
    "                t_idxs = idxs\n",
    "            x_shape = (batch_size, src_size[1], src_size[0], 3)\n",
    "            y_shape = (batch_size, src_size[1], src_size[0])\n",
    "            x = np.zeros(shape=x_shape, dtype=np.float32)\n",
    "            y = np.zeros(shape=y_shape, dtype=np.float32)\n",
    "\n",
    "            for i, idx in enumerate(t_idxs):\n",
    "                filename = f'{idx:06d}.png'\n",
    "                x[i] = np.array(cv2.imread(os.path.join(o_dir, filename)), dtype=np.float16)\n",
    "                y[i] = np.array(cv2.imread(os.path.join(a_dir, filename), cv2.IMREAD_GRAYSCALE), dtype=np.float16)\n",
    "\n",
    "            yield x / 255, y / 255\n",
    "\n",
    "    @staticmethod\n",
    "    def _delete_dir(path: os.path) -> None:\n",
    "        \"\"\"\n",
    "        :param path: dir path\n",
    "        :return: None\n",
    "        \"\"\"\n",
    "        if os.path.exists(path):\n",
    "            for file in os.listdir(path):\n",
    "                os.remove(os.path.join(path, file))\n",
    "            time.sleep(1)  # stop for 1 sec for the os to be able to catch up\n",
    "            os.rmdir(path)"
   ]
  },
  {
   "cell_type": "code",
   "execution_count": 0,
   "metadata": {
    "colab": {
     "base_uri": "https://localhost:8080/",
     "height": 119
    },
    "colab_type": "code",
    "id": "CGf0W70pWBMl",
    "outputId": "6a894177-1dd8-478d-ac2d-765810f36fdf"
   },
   "outputs": [
    {
     "name": "stderr",
     "output_type": "stream",
     "text": [
      "[INFO]: loading video files from:\n",
      "/content/deep_learning_hf/data/train\n",
      "[INFO]: loading video files from:\n",
      "/content/deep_learning_hf/data/validation\n",
      "[INFO]: loading video files from:\n",
      "/content/deep_learning_hf/data/test\n"
     ]
    }
   ],
   "source": [
    "# preprocessing the videos using the VideoLoader class above\n",
    "# there are 2 batches of videos, large and small corresponding to the sizes to the images\n",
    "# large images are 160 by 120, while the small ones are 80 by 60 \n",
    "\n",
    "train_dir = os.path.join(os.getcwd(), 'data', \"train\")\n",
    "valid_dir = os.path.join(os.getcwd(), 'data', \"validation\")\n",
    "test_dir = os.path.join(os.getcwd(), 'data', \"test\")\n",
    "\n",
    "train_video_loader = VideoLoader(train_dir)\n",
    "prep_small_dir = os.path.join(os.getcwd(), 'prep_small', 'train')\n",
    "prep_large_dir = os.path.join(os.getcwd(), 'prep_large', 'train')\n",
    "train_video_loader.preprocess((160, 120), prep_large_dir)\n",
    "train_video_loader.preprocess((80, 60), prep_small_dir)\n",
    "\n",
    "validation_video_loader = VideoLoader(valid_dir)\n",
    "prep_small_dir = os.path.join(os.getcwd(), 'prep_small', 'validation')\n",
    "prep_large_dir = os.path.join(os.getcwd(), 'prep_large', 'validation')\n",
    "validation_video_loader.preprocess((160, 120), prep_large_dir)\n",
    "validation_video_loader.preprocess((80, 60), prep_small_dir)\n",
    "\n",
    "test_video_loader = VideoLoader(test_dir)\n",
    "prep_small_dir = os.path.join(os.getcwd(), 'prep_small', 'test')\n",
    "prep_large_dir = os.path.join(os.getcwd(), 'prep_large', 'test')\n",
    "test_video_loader.preprocess((160, 120), prep_large_dir)\n",
    "test_video_loader.preprocess((80, 60), prep_small_dir)"
   ]
  },
  {
   "cell_type": "markdown",
   "metadata": {
    "colab_type": "text",
    "id": "66zH0Rp_WJ5n"
   },
   "source": [
    "## Loading and training the models\n",
    "\n",
    "For the optimization process we defined 15 different models (model0 being the original one + 15 additional ones). These models mainly differ from the original one by their parameters, specifically: \n",
    "\n",
    "- input shape\n",
    "- convolution filter count\n",
    "- convolution kernel size\n",
    "\n",
    "Some of the models have small architectural changes also, because we wanted to see for example how does removing a convolution from a convolution block or reducing the number of convolution blocks from 3 to 2 effect the network's performance. \n",
    "\n",
    "The following few lines of code loads the models, and trains them one after another, consistently using the same training parametes as the original one did.     \n"
   ]
  },
  {
   "cell_type": "code",
   "execution_count": 0,
   "metadata": {
    "colab": {},
    "colab_type": "code",
    "id": "2rwlWoGZBGK3"
   },
   "outputs": [],
   "source": [
    "from model0 import model0\n",
    "from model1 import model1\n",
    "from model2 import model2\n",
    "from model3 import model3\n",
    "from model4 import model4\n",
    "from model5 import model5\n",
    "from model6 import model6\n",
    "from model7 import model7\n",
    "from model8 import model8\n",
    "from model9 import model9\n",
    "from model10 import model10\n",
    "from model11 import model11\n",
    "from model12 import model12\n",
    "from model13 import model13\n",
    "from model14 import model14\n",
    "from model15 import model15\n",
    "import gc\n",
    "\n",
    "# large models are the models with input shape (160,120), and work with the corresponding large image dateset\n",
    "models_large = {\n",
    "   \"model0\": model0, \n",
    "   \"model1\": model1, \n",
    "   \"model2\": model2, \n",
    "   \"model3\": model3, \n",
    "   \"model4\": model4, \n",
    "   \"model5\": model5, \n",
    "   \"model6\": model6, \n",
    "   \"model7\": model7, \n",
    "   \"model8\": model8, \n",
    "   \"model9\": model9, \n",
    "   \"model10\": model10, \n",
    "   \"model11\": model11\n",
    "}\n",
    "# small models are the models with input shape (80,60), and work with the corresponding small image dateset\n",
    "models_small = {\n",
    "    \"model12\": model12, \n",
    "    \"model13\": model13, \n",
    "    \"model14\": model14, \n",
    "    \"model15\": model15\n",
    "}\n",
    "\n",
    "for key, model in models_large.items():\n",
    "    checkpoint_name = f'{key}.hdf5'\n",
    "    model.compile(optimizer=tf.keras.optimizers.Adam(lr=1e-3), loss=\"binary_crossentropy\", metrics=['acc'])\n",
    "    if not os.path.exists(checkpoint_name):\n",
    "        dg_train = train_video_loader.data_generator(prep_large_dir, (160, 120), 32)\n",
    "        dg_valid = validation_video_loader.data_generator(prep_large_dir, (160, 120), 32)\n",
    "        callback_checkpoint = tf.keras.callbacks.ModelCheckpoint(filepath=checkpoint_name,\n",
    "                                                                 monitor='val_loss',\n",
    "                                                                 verbose=1,\n",
    "                                                                 save_weights_only=True,\n",
    "                                                                 save_best_only=True)\n",
    "\n",
    "        callback_early_stopping = tf.keras.callbacks.EarlyStopping(monitor='val_loss',\n",
    "                                                                   patience=10, verbose=1)\n",
    "        callback_reduce_lr = tf.keras.callbacks.ReduceLROnPlateau(monitor='val_loss',\n",
    "                                                                  factor=0.1,\n",
    "                                                                  patience=7,\n",
    "                                                                  verbose=1,\n",
    "                                                                  min_rl=1e-5)\n",
    "        model.fit_generator(\n",
    "                generator=dg_train,\n",
    "                steps_per_epoch=20,\n",
    "                epochs=50,\n",
    "                verbose=1,\n",
    "                validation_data=dg_valid,\n",
    "                validation_steps=10,\n",
    "                callbacks=[callback_checkpoint, callback_reduce_lr, callback_early_stopping]\n",
    "        )\n",
    "        gc.collect()\n",
    "\n",
    "for key, model in models_small.items():\n",
    "    checkpoint_name = f'{key}.hdf5'\n",
    "    model.compile(optimizer=tf.keras.optimizers.Adam(lr=1e-3), loss=\"binary_crossentropy\", metrics=['acc'])\n",
    "    if not os.path.exists(checkpoint_name):\n",
    "        dg_train = train_video_loader.data_generator(prep_small_dir, (80, 60), 32)\n",
    "        dg_valid = validation_video_loader.data_generator(prep_small_dir, (80, 60), 32)\n",
    "        callback_checkpoint = tf.keras.callbacks.ModelCheckpoint(filepath=checkpoint_name,\n",
    "                                                                 monitor='val_loss',\n",
    "                                                                 verbose=1,\n",
    "                                                                 save_weights_only=True,\n",
    "                                                                 save_best_only=True)\n",
    "\n",
    "        callback_early_stopping = tf.keras.callbacks.EarlyStopping(monitor='val_loss',\n",
    "                                                                   patience=10, verbose=1)\n",
    "        callback_reduce_lr = tf.keras.callbacks.ReduceLROnPlateau(monitor='val_loss',\n",
    "                                                                  factor=0.1,\n",
    "                                                                  patience=7,\n",
    "                                                                  verbose=1,\n",
    "                                                                  min_rl=1e-5)\n",
    "        model.fit_generator(\n",
    "                generator=dg_train,\n",
    "                steps_per_epoch=20,\n",
    "                epochs=50,\n",
    "                verbose=1,\n",
    "                validation_data=dg_valid,\n",
    "                validation_steps=10,\n",
    "                callbacks=[callback_checkpoint, callback_reduce_lr, callback_early_stopping]\n",
    "        )\n",
    "        gc.collect()"
   ]
  },
  {
   "cell_type": "markdown",
   "metadata": {
    "colab_type": "text",
    "id": "fjAhWPJ3YhbE"
   },
   "source": [
    "## Evaluate models, measure inference\n",
    "\n",
    "After all of the models have successfully trained, we evaluate the results. We are mainly interested in ite following criteria:\n",
    "\n",
    "- model trainable parameter count \n",
    "- model inference time\n",
    "- model prediction accuracy\n",
    "\n",
    "Inference times are measured by taking the average of 100 predictions, measuring the other two criteraia are self explanatory."
   ]
  },
  {
   "cell_type": "code",
   "execution_count": 0,
   "metadata": {
    "colab": {},
    "colab_type": "code",
    "id": "3ZnEebahBUVv"
   },
   "outputs": [],
   "source": [
    "inference_times = {}\n",
    "parameters = {}\n",
    "evaluations = {}\n",
    "\n",
    "idxs = np.array([180])\n",
    "dg_test_large = test_video_loader.data_generator(prep_large_dir, (160, 120), len(idxs), idxs)\n",
    "x, y = next(dg_test_large)\n",
    "for key, model in models_large.items():\n",
    "    checkpoint_name = f'{key}.hdf5'\n",
    "    model.load_weights(checkpoint_name)\n",
    "    inf_sum = 0\n",
    "    for r in range(100):\n",
    "        start=time.time()\n",
    "        p = model.predict(np.expand_dims(x[0], axis=0)) \n",
    "        elapsed = (time.time() - start)\n",
    "        inf_sum += elapsed\n",
    "    inf = inf_sum / 100\n",
    "    for r in range(len(x)):\n",
    "        a = np.array(x[r]) * 255\n",
    "        b = np.zeros(shape=x[r].shape)\n",
    "        c = np.zeros(shape=x[r].shape)\n",
    "        p = np.array(p)\n",
    "        for i in range(120):\n",
    "            for j in range(160):\n",
    "                b[i, j, 0] = y[r][i, j]\n",
    "                b[i, j, 1] = y[r][i, j]\n",
    "                b[i, j, 2] = y[r][i, j]\n",
    "                c[i, j, 0] = p[r][i, j]\n",
    "                c[i, j, 1] = p[r][i, j]\n",
    "                c[i, j, 2] = p[r][i, j]\n",
    "        b = b * 255\n",
    "        c = c * 255\n",
    "        img = np.concatenate((a, b, c), axis=1)\n",
    "        cv2.imwrite(f'{key}.png', img)\n",
    "        inference_times[key] = inf\n",
    "        parameters[key] = np.sum([np.prod(v.get_shape().as_list()) for v in model.trainable_variables])\n",
    "        evaluations[key] = model.evaluate_generator(dg_test_large, steps=10)"
   ]
  },
  {
   "cell_type": "code",
   "execution_count": 0,
   "metadata": {
    "colab": {},
    "colab_type": "code",
    "id": "1T_3LiBTwiWq"
   },
   "outputs": [],
   "source": [
    "dg_test_small = test_video_loader.data_generator(prep_small_dir, (80, 60), len(idxs), idxs)\n",
    "x, y = next(dg_test_small)\n",
    "for key, model in models_small.items():\n",
    "    checkpoint_name = f'{key}.hdf5'\n",
    "    model.load_weights(checkpoint_name)\n",
    "    inf_sum = 0\n",
    "    for r in range(100):\n",
    "        start=time.time()\n",
    "        p = model.predict(np.expand_dims(x[0], axis=0)) \n",
    "        elapsed = (time.time() - start)\n",
    "        inf_sum += elapsed\n",
    "    inf = inf_sum / 100\n",
    "    for r in range(len(x)):\n",
    "        a = np.array(x[r]) * 255\n",
    "        b = np.zeros(shape=x[r].shape)\n",
    "        c = np.zeros(shape=x[r].shape)\n",
    "        p = np.array(p)\n",
    "        for i in range(60):\n",
    "            for j in range(80):\n",
    "                b[i, j, 0] = y[r][i, j]\n",
    "                b[i, j, 1] = y[r][i, j]\n",
    "                b[i, j, 2] = y[r][i, j]\n",
    "                c[i, j, 0] = p[r][i, j]\n",
    "                c[i, j, 1] = p[r][i, j]\n",
    "                c[i, j, 2] = p[r][i, j]\n",
    "        b = b * 255\n",
    "        c = c * 255\n",
    "        img = np.concatenate((a, b, c), axis=1)\n",
    "        cv2.imwrite(f'{key}_o.png', img)\n",
    "        cv2.imwrite(f'{key}.png', cv2.resize(img, (480, 120)))\n",
    "        inference_times[key] = inf\n",
    "        parameters[key] = np.sum([np.prod(v.get_shape().as_list()) for v in model.trainable_variables])\n",
    "        evaluations[key] = model.evaluate_generator(dg_test_small, steps=10)"
   ]
  },
  {
   "cell_type": "code",
   "execution_count": 0,
   "metadata": {
    "colab": {
     "base_uri": "https://localhost:8080/",
     "height": 54
    },
    "colab_type": "code",
    "id": "57j_rPwBDG0-",
    "outputId": "78096abb-2393-46c7-db53-8566134b478d"
   },
   "outputs": [
    {
     "name": "stdout",
     "output_type": "stream",
     "text": [
      "{'model0': 0.10818270206451416, 'model1': 0.06300840139389038, 'model2': 0.07622960805892945, 'model3': 0.04754894733428955, 'model4': 0.08720038890838623, 'model5': 0.04932862758636475, 'model6': 0.048787689208984374, 'model7': 0.0401193642616272, 'model8': 0.0830100131034851, 'model9': 0.049223527908325196, 'model10': 0.050996866226196286, 'model11': 0.04177186250686646, 'model12': 0.055672798156738285, 'model13': 0.04376605987548828, 'model14': 0.04161564350128174, 'model15': 0.05411366701126099}\n"
     ]
    }
   ],
   "source": [
    "print(inference_times)"
   ]
  },
  {
   "cell_type": "code",
   "execution_count": 0,
   "metadata": {
    "colab": {
     "base_uri": "https://localhost:8080/",
     "height": 54
    },
    "colab_type": "code",
    "id": "a2IDgqs3DP7W",
    "outputId": "44e75aac-c947-49bf-c454-087707bdbbf9"
   },
   "outputs": [
    {
     "name": "stdout",
     "output_type": "stream",
     "text": [
      "{'model0': 15348289, 'model1': 3840289, 'model2': 3839809, 'model3': 961441, 'model4': 3549761, 'model5': 890145, 'model6': 888641, 'model7': 223137, 'model8': 7089857, 'model9': 1775457, 'model10': 1774529, 'model11': 444897, 'model12': 3549761, 'model13': 890145, 'model14': 888641, 'model15': 223137}\n"
     ]
    }
   ],
   "source": [
    "print(parameters)"
   ]
  },
  {
   "cell_type": "code",
   "execution_count": 0,
   "metadata": {
    "colab": {
     "base_uri": "https://localhost:8080/",
     "height": 71
    },
    "colab_type": "code",
    "id": "roDIOR3KDQV5",
    "outputId": "8830fb99-f911-4f6f-b941-056fd1bcfeed"
   },
   "outputs": [
    {
     "name": "stdout",
     "output_type": "stream",
     "text": [
      "{'model0': [0.007204820401966572, 0.9947917], 'model1': [0.01048349216580391, 0.9945313], 'model2': [0.01038816012442112, 0.9945313], 'model3': [0.34563925862312317, 0.8486979], 'model4': [0.027385802939534187, 0.9893229], 'model5': [0.15616968274116516, 0.94291675], 'model6': [0.15169657766819, 0.9303646], 'model7': [0.2310815155506134, 0.90015626], 'model8': [0.39719757437705994, 0.9060938], 'model9': [0.32606324553489685, 0.8447397], 'model10': [0.35468801856040955, 0.84619796], 'model11': [0.4791960120201111, 0.7765625], 'model12': [0.03633614256978035, 0.98583335], 'model13': [0.007828833535313606, 0.99666655], 'model14': [0.15766330063343048, 0.94395846], 'model15': [0.008242489770054817, 0.9972917]}\n",
      "{'model0': 0.9947917, 'model1': 0.9945313, 'model2': 0.9945313, 'model3': 0.8486979, 'model4': 0.9893229, 'model5': 0.94291675, 'model6': 0.9303646, 'model7': 0.90015626, 'model8': 0.9060938, 'model9': 0.8447397, 'model10': 0.84619796, 'model11': 0.7765625, 'model12': 0.98583335, 'model13': 0.99666655, 'model14': 0.94395846, 'model15': 0.9972917}\n"
     ]
    }
   ],
   "source": [
    "print(evaluations)\n",
    "accuracy = {}\n",
    "for k, v in evaluations.items():\n",
    "    accuracy[k] = v[1]\n",
    "print(accuracy)"
   ]
  },
  {
   "cell_type": "markdown",
   "metadata": {
    "colab_type": "text",
    "id": "54G1DZY4aJPh"
   },
   "source": [
    "## Plotting the results"
   ]
  },
  {
   "cell_type": "code",
   "execution_count": 0,
   "metadata": {
    "colab": {},
    "colab_type": "code",
    "id": "zkV3h_vvSSd5"
   },
   "outputs": [],
   "source": [
    "# sort by paramter count descending\n",
    "from collections import OrderedDict\n",
    "parameters_sorted = OrderedDict(sorted(parameters.items(), key=lambda item: item[1], reverse=True))"
   ]
  },
  {
   "cell_type": "code",
   "execution_count": 0,
   "metadata": {
    "colab": {
     "base_uri": "https://localhost:8080/",
     "height": 456
    },
    "colab_type": "code",
    "id": "CdNJOVV12AGY",
    "outputId": "59a83e2a-92d1-4e87-ebac-8b092945598a"
   },
   "outputs": [
    {
     "data": {
      "image/png": "[encoded data removed]",
      "text/plain": [
       "<Figure size 720x432 with 3 Axes>"
      ]
     },
     "metadata": {
      "tags": []
     },
     "output_type": "display_data"
    }
   ],
   "source": [
    "import matplotlib.pyplot as plt\n",
    "\n",
    "fig, ax1 = plt.subplots(figsize=(10,6))\n",
    "x = [k for k in parameters_sorted.keys()]\n",
    "y = [parameters_sorted[k] for k in x]\n",
    "\n",
    "color = 'tab:red'\n",
    "ax1.set_ylabel('trainable parameters [M]', color=color)\n",
    "ax1.scatter(x, np.array(y)/1000000, color=color)\n",
    "ax1.tick_params(axis='y', labelcolor=color)\n",
    "ax1.set_xticklabels(x, rotation=45)\n",
    "\n",
    "y = [accuracy[k] for k in x]\n",
    "\n",
    "ax2 = ax1.twinx()  # instantiate a second axes that shares the same x-axis\n",
    "\n",
    "color = 'tab:blue'\n",
    "ax2.set_ylabel('accuracy [%]', color=color)  # we already handled the x-label with ax1\n",
    "ax2.scatter(x, np.array(y)*100, color=color)\n",
    "ax2.tick_params(axis='y', labelcolor=color)\n",
    "\n",
    "z = [inference_times[k] for k in x]\n",
    "ax3 = ax1.twinx()  \n",
    "ax3.spines[\"right\"].set_position((\"axes\", 1.1))\n",
    "color = 'tab:green'\n",
    "ax3.set_ylabel('inference time [s]', color=color) \n",
    "ax3.scatter(x, np.array(z), color=color)\n",
    "ax3.tick_params(axis='y', labelcolor=color)\n",
    "\n",
    "\n",
    "fig.tight_layout()\n",
    "plt.title('parameters & accuracy & inference times')\n",
    "plt.show()"
   ]
  },
  {
   "cell_type": "code",
   "execution_count": 0,
   "metadata": {
    "colab": {
     "base_uri": "https://localhost:8080/",
     "height": 457
    },
    "colab_type": "code",
    "id": "qjPZEz_H5TSr",
    "outputId": "9e2f223d-42c9-4e64-fb5b-e0b96b7943f6"
   },
   "outputs": [
    {
     "data": {
      "image/png": "[encoded data removed]",
      "text/plain": [
       "<Figure size 720x432 with 2 Axes>"
      ]
     },
     "metadata": {
      "tags": []
     },
     "output_type": "display_data"
    }
   ],
   "source": [
    "fig, ax1 = plt.subplots(figsize=(10,6))\n",
    "x = [k for k in parameters_sorted.keys()]\n",
    "y = [inference_times[k] for k in x]\n",
    "\n",
    "# lists = sorted(parameters.items())\n",
    "# x, y = zip(*lists)\n",
    "\n",
    "color = 'tab:red'\n",
    "# ax1.set_xlabel('model')\n",
    "ax1.set_ylabel('inference time [s]', color=color)\n",
    "ax1.scatter(x, np.array(y), color=color)\n",
    "ax1.tick_params(axis='y', labelcolor=color)\n",
    "ax1.set_xticklabels(x, rotation=45)\n",
    "\n",
    "y = [accuracy[k] for k in x]\n",
    "\n",
    "ax2 = ax1.twinx()  # instantiate a second axes that shares the same x-axis\n",
    "\n",
    "color = 'tab:blue'\n",
    "ax2.set_ylabel('accuracy [%]', color=color)  # we already handled the x-label with ax1\n",
    "ax2.scatter(x, np.array(y)*100, color=color)\n",
    "ax2.tick_params(axis='y', labelcolor=color)\n",
    "\n",
    "\n",
    "fig.tight_layout()  # otherwise the right y-label is slightly clipped\n",
    "plt.title('inference time & accuracy')\n",
    "plt.show()"
   ]
  }
 ],
 "metadata": {
  "accelerator": "GPU",
  "colab": {
   "collapsed_sections": [],
   "name": "Copy of dl_hf_hyper_opt.ipynb",
   "provenance": []
  },
  "kernelspec": {
   "display_name": "Python 3",
   "language": "python",
   "name": "python3"
  },
  "language_info": {
   "codemirror_mode": {
    "name": "ipython",
    "version": 3
   },
   "file_extension": ".py",
   "mimetype": "text/x-python",
   "name": "python",
   "nbconvert_exporter": "python",
   "pygments_lexer": "ipython3",
   "version": "3.6.5"
  }
 },
 "nbformat": 4,
 "nbformat_minor": 1
}
